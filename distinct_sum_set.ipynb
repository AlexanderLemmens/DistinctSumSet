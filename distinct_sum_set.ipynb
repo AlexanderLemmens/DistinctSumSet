{
 "cells": [
  {
   "cell_type": "markdown",
   "metadata": {},
   "source": [
    "The following is an algorithm for calculating the distinct sum set. The functions 'add_points' and 'add_point_to_set' are auxiliary functions. The function 'distinct_sum_set(n,p,S)' has 3 arguments. The first argument n is the dimension of the lattice we work in (so 2 if we work in the plane). the second is the index p and the third is the set of points S. So the output will be the set of points that can be obtained by adding p different elements of S. If p is zero it outputs the singleton of the origin. The set S is represented by a set of n-tuples, each n-tuple representing a point in Z^n."
   ]
  },
  {
   "cell_type": "code",
   "execution_count": 65,
   "metadata": {},
   "outputs": [],
   "source": [
    "def add_points(x,y):\n",
    "    return tuple(map(lambda a, b: a + b, x, y))\n",
    "def add_point_to_set(x,y):\n",
    "    return set(map(lambda a: add_points(x,a),y))\n",
    "def distinct_sum_set(n,p,S):\n",
    "    T = list(S)\n",
    "    N = len(T)\n",
    "    if (N == 0 and p==0):\n",
    "        return {tuple([0]*n)}\n",
    "    if (p<0 or p>N):\n",
    "        return {}\n",
    "    m = len(T[0])\n",
    "    N = len(T)\n",
    "    origin = tuple([0]*m)\n",
    "    if(p==0):\n",
    "        return {origin}\n",
    "    L = [{origin}]*(N-p+1)\n",
    "    for l in range(1,p+1):\n",
    "        L[0] = add_point_to_set(T[l-1],L[0])\n",
    "        for i in range(1,N-p+1):\n",
    "            L[i] = L[i-1].union(add_point_to_set(T[l+i-1],L[i]))\n",
    "    return L[N-p]"
   ]
  },
  {
   "cell_type": "code",
   "execution_count": 66,
   "metadata": {},
   "outputs": [
    {
     "data": {
      "text/plain": [
       "{(0, 0, 0)}"
      ]
     },
     "execution_count": 66,
     "metadata": {},
     "output_type": "execute_result"
    }
   ],
   "source": [
    "distinct_sum_set(3,0,{})"
   ]
  },
  {
   "cell_type": "code",
   "execution_count": 67,
   "metadata": {},
   "outputs": [
    {
     "data": {
      "text/plain": [
       "{(-1, 0), (0, -1), (0, 0), (1, 1)}"
      ]
     },
     "execution_count": 67,
     "metadata": {},
     "output_type": "execute_result"
    }
   ],
   "source": [
    "distinct_sum_set(2,3,{(0,0),(0,1),(1,0),(-1,-1)})"
   ]
  },
  {
   "cell_type": "code",
   "execution_count": 68,
   "metadata": {},
   "outputs": [
    {
     "data": {
      "text/plain": [
       "{(-1, -1), (-1, 0), (0, -1), (0, 1), (1, 0), (1, 1)}"
      ]
     },
     "execution_count": 68,
     "metadata": {},
     "output_type": "execute_result"
    }
   ],
   "source": [
    "distinct_sum_set(2,2,{(0,0),(0,1),(1,0),(-1,-1)})"
   ]
  },
  {
   "cell_type": "code",
   "execution_count": 55,
   "metadata": {},
   "outputs": [
    {
     "data": {
      "text/plain": [
       "{(0, 1, 1),\n",
       " (1, 0, 1),\n",
       " (1, 0, 2),\n",
       " (1, 1, 0),\n",
       " (1, 1, 1),\n",
       " (1, 1, 2),\n",
       " (2, -1, 1),\n",
       " (2, 0, 0),\n",
       " (2, 0, 1),\n",
       " (2, 0, 2),\n",
       " (2, 1, 1),\n",
       " (3, -1, 0),\n",
       " (3, -1, 1),\n",
       " (3, -1, 2),\n",
       " (3, 0, 0),\n",
       " (3, 0, 1),\n",
       " (4, -1, 1)}"
      ]
     },
     "execution_count": 55,
     "metadata": {},
     "output_type": "execute_result"
    }
   ],
   "source": [
    "distinct_sum_set(3,3,{(0,0,0),(0,0,1),(1,0,0),(1,0,1),(0,1,0),(2,-1,0)})"
   ]
  },
  {
   "cell_type": "code",
   "execution_count": 69,
   "metadata": {},
   "outputs": [
    {
     "data": {
      "text/plain": [
       "{(0, 3),\n",
       " (1, 1),\n",
       " (1, 2),\n",
       " (1, 3),\n",
       " (1, 4),\n",
       " (1, 5),\n",
       " (2, 1),\n",
       " (2, 2),\n",
       " (2, 3),\n",
       " (2, 4),\n",
       " (2, 5),\n",
       " (3, 0),\n",
       " (3, 1),\n",
       " (3, 2),\n",
       " (3, 3),\n",
       " (3, 4),\n",
       " (3, 5),\n",
       " (3, 6),\n",
       " (4, 1),\n",
       " (4, 2),\n",
       " (4, 3),\n",
       " (4, 4),\n",
       " (4, 5),\n",
       " (5, 1),\n",
       " (5, 2),\n",
       " (5, 3),\n",
       " (5, 4),\n",
       " (5, 5),\n",
       " (6, 3)}"
      ]
     },
     "execution_count": 69,
     "metadata": {},
     "output_type": "execute_result"
    }
   ],
   "source": [
    "A = distinct_sum_set(2,3,{(0,0),(0,1),(1,0),(1,1),(1,2),(2,1),(0,2),(2,0),(2,2)})\n",
    "B = distinct_sum_set(2, 7, A)\n",
    "A"
   ]
  },
  {
   "cell_type": "code",
   "execution_count": null,
   "metadata": {},
   "outputs": [],
   "source": []
  }
 ],
 "metadata": {
  "kernelspec": {
   "display_name": "Python 3",
   "language": "python",
   "name": "python3"
  },
  "language_info": {
   "codemirror_mode": {
    "name": "ipython",
    "version": 3
   },
   "file_extension": ".py",
   "mimetype": "text/x-python",
   "name": "python",
   "nbconvert_exporter": "python",
   "pygments_lexer": "ipython3",
   "version": "3.7.1"
  }
 },
 "nbformat": 4,
 "nbformat_minor": 2
}
